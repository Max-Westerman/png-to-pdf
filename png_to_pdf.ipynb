{
 "cells": [
  {
   "cell_type": "code",
   "execution_count": 9,
   "id": "2b2bb70e",
   "metadata": {},
   "outputs": [
    {
     "name": "stdout",
     "output_type": "stream",
     "text": [
      "Conversion complete. PDFs saved in: /Users/maxwesterman/Desktop/Y3Q2/Material Science II/CompressionLab/output_data/graph_pdf_folder\n"
     ]
    }
   ],
   "source": [
    "import os\n",
    "from PIL import Image\n",
    "\n",
    "# Define the directory containing the images\n",
    "directory = '/Users/maxwesterman/Desktop/Y3Q2/Material Science II/CompressionLab/output_data'\n",
    "pdf_directory = os.path.join(directory, 'graph_pdf_folder')\n",
    "\n",
    "# Create the pdf directory if it does not exist\n",
    "if not os.path.exists(pdf_directory):\n",
    "    os.makedirs(pdf_directory)\n",
    "\n",
    "# List all image files in the directory (assuming PNG and JPG files only)\n",
    "image_extensions = ['.png', '.jpg']\n",
    "image_files = [f for f in os.listdir(directory) if any(f.endswith(ext) for ext in image_extensions)]\n",
    "\n",
    "# Convert each image to PDF and save in the pdf folder\n",
    "for image_file in image_files:\n",
    "    image_path = os.path.join(directory, image_file)\n",
    "    # Open the image\n",
    "    with Image.open(image_path) as img:\n",
    "        # Convert the image to RGB\n",
    "        img = img.convert('RGB')\n",
    "        # Define the output PDF path\n",
    "        pdf_path = os.path.join(pdf_directory, os.path.splitext(image_file)[0] + '.pdf')\n",
    "        # Save the image as a PDF\n",
    "        img.save(pdf_path)\n",
    "\n",
    "print(\"Conversion complete. PDFs saved in:\", pdf_directory)\n"
   ]
  },
  {
   "cell_type": "code",
   "execution_count": null,
   "id": "aab40df2",
   "metadata": {},
   "outputs": [],
   "source": []
  }
 ],
 "metadata": {
  "kernelspec": {
   "display_name": "Python 3 (ipykernel)",
   "language": "python",
   "name": "python3"
  },
  "language_info": {
   "codemirror_mode": {
    "name": "ipython",
    "version": 3
   },
   "file_extension": ".py",
   "mimetype": "text/x-python",
   "name": "python",
   "nbconvert_exporter": "python",
   "pygments_lexer": "ipython3",
   "version": "3.10.9"
  }
 },
 "nbformat": 4,
 "nbformat_minor": 5
}
